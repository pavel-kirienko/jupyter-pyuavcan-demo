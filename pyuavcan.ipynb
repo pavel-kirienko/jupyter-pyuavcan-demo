{
 "cells": [
  {
   "cell_type": "code",
   "execution_count": 1,
   "metadata": {
    "pycharm": {
     "is_executing": false
    }
   },
   "outputs": [
    {
     "name": "stdout",
     "text": [
      "IPython autoawait is `on`, and set to use `asyncio`\n",
      "Using PyUAVCAN version 0.5.0\n"
     ],
     "output_type": "stream"
    }
   ],
   "source": [
    "# This is quite critical because PyUAVCAN is asynchronous.\n",
    "%autoawait\n",
    "\n",
    "# Resetting is also necessary because you don't want to have multiple nodes running concurrently on\n",
    "# the same interface -- it may not work depending on the used transport.\n",
    "%reset\n",
    "\n",
    "import logging\n",
    "import pyuavcan  # READ THE LIBRARY DOCS AT http://pyuavcan.readthedocs.io\n",
    "print('Using PyUAVCAN version', pyuavcan.__version__)\n",
    "\n",
    "# In this interactive scenario there is no point generating DSDL packages programmatically because\n",
    "# it is easier to invoke the DSDL code generator from the command line instead.\n",
    "# For the purposes of this demo, the following command will do the job:\n",
    "#\n",
    "#    uvc dsdl-gen-pkg dsdl/example https://github.com/UAVCAN/public_regulated_data_types/archive/master.zip\n",
    "#\n",
    "# Make sure that you are invoking the command from the directory where the notebook is located.\n",
    "\n",
    "import uavcan   # Generated package for the DSDL namespace \"uavcan\".\n",
    "import example  # Generated package for the DSDL namespace \"example\".\n",
    "import pyuavcan.application"
   ]
  },
  {
   "cell_type": "code",
   "execution_count": 2,
   "metadata": {
    "pycharm": {
     "is_executing": false
    }
   },
   "outputs": [],
   "source": [
    "# Transport configuration. Uncomment the transport you need, remove the rest.\n",
    "\n",
    "import pyuavcan.transport.loopback\n",
    "transport = pyuavcan.transport.loopback.LoopbackTransport(87)\n",
    "\n",
    "#import pyuavcan.transport.udp\n",
    "#transport = pyuavcan.transport.udp.UDPTransport('127.0.0.87/8')\n",
    "\n",
    "#import pyuavcan.transport.serial\n",
    "#transport = pyuavcan.transport.serial.SerialTransport('/dev/ttyACM0', local_node_id=87)\n",
    "\n",
    "#import pyuavcan.transport.can\n",
    "#import pyuavcan.transport.can.media.socketcan\n",
    "#media = pyuavcan.transport.can.media.socketcan.SocketCANMedia('vcan0', mtu=64)\n",
    "#transport = pyuavcan.transport.can.CANTransport(media, local_node_id=87)\n",
    "\n",
    "# If you're using the loopback transport, you will see a warning about node-ID conflict, this is fine.\n",
    "# We suppress it like this:\n",
    "logging.getLogger('pyuavcan.application.heartbeat_publisher').setLevel(logging.ERROR)"
   ]
  },
  {
   "cell_type": "code",
   "execution_count": 3,
   "metadata": {
    "pycharm": {
     "is_executing": false
    }
   },
   "outputs": [],
   "source": [
    "import uavcan.node\n",
    "\n",
    "# Initialize and start the node.\n",
    "node_info = uavcan.node.GetInfo_1_0.Response(\n",
    "    protocol_version=uavcan.node.Version_1_0(*pyuavcan.UAVCAN_SPECIFICATION_VERSION),\n",
    "    software_version=uavcan.node.Version_1_0(major=1, minor=0),\n",
    "    name='org.uavcan.pyuavcan.demo.jupyter',\n",
    ")\n",
    "node = pyuavcan.application.Node(pyuavcan.presentation.Presentation(transport), node_info)\n",
    "node.start()\n",
    "\n",
    "#import asyncio; asyncio.Task.all_tasks()  # Shows the background tasks."
   ]
  },
  {
   "cell_type": "code",
   "execution_count": 4,
   "metadata": {
    "pycharm": {
     "is_executing": false
    }
   },
   "outputs": [],
   "source": [
    "pub_a = node.presentation.make_publisher(example.MyMessage_0_1, 1234)\n",
    "\n",
    "sub_a = node.presentation.make_subscriber(example.MyMessage_0_1, 1234)"
   ]
  },
  {
   "cell_type": "code",
   "execution_count": 5,
   "outputs": [],
   "source": [
    "import errno\n",
    "import uavcan.file\n",
    "\n",
    "client_file_read = node.presentation.make_client_with_fixed_service_id(uavcan.file.Read_1_0, server_node_id=87)\n",
    "\n",
    "async def file_read_handler(request: uavcan.file.Read_1_0.Request,\n",
    "                            meta: pyuavcan.presentation.ServiceRequestMetadata) -> uavcan.file.Read_1_0.Response:\n",
    "    print('File read request', request, 'with metadata', meta)\n",
    "    try:\n",
    "        with open(request.path.path.tobytes().decode(), 'r') as f:\n",
    "            f.seek(request.offset)\n",
    "            data = f.read(256)\n",
    "        return uavcan.file.Read_1_0.Response(data=data)\n",
    "    except OSError as ex:\n",
    "        error_value = {\n",
    "            errno.EACCES:   uavcan.file.Error_1_0.ACCESS_DENIED,\n",
    "            errno.E2BIG:    uavcan.file.Error_1_0.FILE_TOO_LARGE,\n",
    "            errno.EINVAL:   uavcan.file.Error_1_0.INVALID_VALUE,\n",
    "            errno.EIO:      uavcan.file.Error_1_0.IO_ERROR,\n",
    "            errno.EISDIR:   uavcan.file.Error_1_0.IS_DIRECTORY,\n",
    "            errno.ENOENT:   uavcan.file.Error_1_0.NOT_FOUND,\n",
    "            errno.ENOTSUP:  uavcan.file.Error_1_0.NOT_SUPPORTED,\n",
    "            errno.ENOSPC:   uavcan.file.Error_1_0.OUT_OF_SPACE,\n",
    "        }.get(ex.errno, uavcan.file.Error_1_0.UNKNOWN_ERROR)\n",
    "        return uavcan.file.Read_1_0.Response(error=error_value)\n",
    "\n",
    "server_file_read = node.presentation.get_server_with_fixed_service_id(uavcan.file.Read_1_0)\n",
    "server_file_read.serve_in_background(file_read_handler)"
   ],
   "metadata": {
    "collapsed": false,
    "pycharm": {
     "name": "#%%\n",
     "is_executing": false
    }
   }
  },
  {
   "cell_type": "code",
   "execution_count": 6,
   "outputs": [
    {
     "name": "stdout",
     "text": [
      "example.MyMessage.0.1(value=123.456)\nTransferFrom(timestamp=Timestamp(system_ns=1573413797491940755, monotonic_ns=466206737645609), priority=<Priority.NOMINAL: 4>, transfer_id=0, fragmented_payload=[<memory at 0x7fd99ee994c8>], source_node_id=87)\n"
     ],
     "output_type": "stream"
    }
   ],
   "source": [
    "await pub_a.publish(example.MyMessage_0_1(value=123.456))\n",
    "\n",
    "message, metadata = await sub_a.receive_for(1.0)  # The timeout is in seconds.\n",
    "print(message)\n",
    "print(metadata)"
   ],
   "metadata": {
    "collapsed": false,
    "pycharm": {
     "name": "#%%\n",
     "is_executing": false
    }
   }
  },
  {
   "cell_type": "code",
   "execution_count": 7,
   "outputs": [
    {
     "name": "stdout",
     "text": [
      "File read request uavcan.file.Read.Request.1.0(offset=2, path=uavcan.file.Path.1.0(path='README.md')) with metadata ServiceRequestMetadata(timestamp=Timestamp(system_ns=1573413797530049436, monotonic_ns=466206775754344), priority=<Priority.NOMINAL: 4>, transfer_id=0, client_node_id=87)\nFirst line of the returned text: 'Jupyter PyUAVCAN demo'\nResponse metadata: TransferFrom(timestamp=Timestamp(system_ns=1573413797532155789, monotonic_ns=466206777860960), priority=<Priority.NOMINAL: 4>, transfer_id=0, fragmented_payload=[<memory at 0x7fd99ee99648>], source_node_id=87)\n"
     ],
     "output_type": "stream"
    }
   ],
   "source": [
    "file_read_request = uavcan.file.Read_1_0.Request(offset=2, path=uavcan.file.Path_1_0('README.md'))\n",
    "response, metadata = await client_file_read.call(file_read_request)\n",
    "\n",
    "# The type information is lost because of the serious limitations of the Python type system.\n",
    "# Please upvote this issue: https://github.com/python/mypy/issues/7121\n",
    "assert isinstance(response, uavcan.file.Read_1_0.Response)\n",
    "\n",
    "first_line = response.data.tobytes().decode().split('\\n')[0]\n",
    "print('First line of the returned text:', repr(first_line))\n",
    "print('Response metadata:', metadata)"
   ],
   "metadata": {
    "collapsed": false,
    "pycharm": {
     "name": "#%%\n",
     "is_executing": false
    }
   }
  },
  {
   "cell_type": "code",
   "execution_count": 8,
   "outputs": [
    {
     "name": "stdout",
     "text": [
      "Node info as JSON: {\n    \"protocol_version\": {\n        \"major\": 1,\n        \"minor\": 0\n    },\n    \"hardware_version\": {\n        \"major\": 0,\n        \"minor\": 0\n    },\n    \"software_version\": {\n        \"major\": 1,\n        \"minor\": 0\n    },\n    \"software_vcs_revision_id\": 0,\n    \"unique_id\": [\n        0,\n        0,\n        0,\n        0,\n        0,\n        0,\n        0,\n        0,\n        0,\n        0,\n        0,\n        0,\n        0,\n        0,\n        0,\n        0\n    ],\n    \"name\": \"org.uavcan.pyuavcan.demo.jupyter\",\n    \"software_image_crc\": [],\n    \"certificate_of_authenticity\": \"\"\n}\n"
     ],
     "output_type": "stream"
    }
   ],
   "source": [
    "import json\n",
    "\n",
    "response, metadata = await node.presentation.make_client_with_fixed_service_id(\n",
    "    uavcan.node.GetInfo_1_0,\n",
    "    server_node_id=87\n",
    ").call(uavcan.node.GetInfo_1_0.Request())\n",
    "\n",
    "print('Node info as JSON:', json.dumps(pyuavcan.dsdl.to_builtin(response), indent=4))"
   ],
   "metadata": {
    "collapsed": false,
    "pycharm": {
     "name": "#%%\n",
     "is_executing": false
    }
   }
  },
  {
   "cell_type": "code",
   "execution_count": 8,
   "outputs": [],
   "source": [
    "\n"
   ],
   "metadata": {
    "collapsed": false,
    "pycharm": {
     "name": "#%%\n",
     "is_executing": false
    }
   }
  }
 ],
 "metadata": {
  "kernelspec": {
   "display_name": "Python 3",
   "language": "python",
   "name": "python3"
  },
  "language_info": {
   "codemirror_mode": {
    "name": "ipython",
    "version": 3
   },
   "file_extension": ".py",
   "mimetype": "text/x-python",
   "name": "python",
   "nbconvert_exporter": "python",
   "pygments_lexer": "ipython3",
   "version": "3.7.3"
  },
  "pycharm": {
   "stem_cell": {
    "cell_type": "raw",
    "source": [],
    "metadata": {
     "collapsed": false
    }
   }
  }
 },
 "nbformat": 4,
 "nbformat_minor": 2
}
