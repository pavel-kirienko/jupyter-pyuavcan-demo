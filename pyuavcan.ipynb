{
 "cells": [
  {
   "cell_type": "code",
   "execution_count": 1,
   "metadata": {
    "pycharm": {
     "is_executing": false
    }
   },
   "outputs": [
    {
     "name": "stdout",
     "output_type": "stream",
     "text": [
      "IPython autoawait is `on`, and set to use `asyncio`\n",
      "Once deleted, variables cannot be recovered. Proceed (y/[n])? y\n"
     ]
    }
   ],
   "source": [
    "%autoawait\n",
    "%reset\n",
    "\n",
    "import logging\n",
    "import pyuavcan  # READ THE LIBRARY DOCS AT http://pyuavcan.readthedocs.io\n",
    "\n",
    "# In this interactive scenario there is no point generating DSDL packages programmatically because\n",
    "# it is easier to invoke the DSDL code generator from the command line instead.\n",
    "# For the purposes of this demo, the following command will do the job (in the same directory):\n",
    "#    yakut compile dsdl/example https://github.com/UAVCAN/public_regulated_data_types/archive/master.zip\n",
    "\n",
    "import uavcan   # Generated package for the DSDL namespace \"uavcan\".\n",
    "import example  # Generated package for the DSDL namespace \"example\".\n",
    "from pyuavcan.application import make_node, NodeInfo, register\n",
    "\n",
    "node = make_node(\n",
    "    NodeInfo(),\n",
    "    schema={\n",
    "        \"uavcan.serial.port\": register.Value(string=register.String(\"loop://\")),\n",
    "        \"uavcan.node.id\":  register.Value(natural16=register.Natural16([250])),\n",
    "        \"uavcan.pub.a.id\": register.Value(natural16=register.Natural16([1234])),\n",
    "        \"uavcan.sub.a.id\": register.Value(natural16=register.Natural16([1234])),\n",
    "    },\n",
    ")\n",
    "node.start()"
   ]
  },
  {
   "cell_type": "code",
   "execution_count": 2,
   "metadata": {
    "pycharm": {
     "is_executing": false
    }
   },
   "outputs": [],
   "source": [
    "pub_a = node.make_publisher(example.MyMessage_0_1, 'a')\n",
    "sub_a = node.make_subscriber(example.MyMessage_0_1, 'a')"
   ]
  },
  {
   "cell_type": "code",
   "execution_count": 3,
   "metadata": {
    "pycharm": {
     "is_executing": false,
     "name": "#%%\n"
    }
   },
   "outputs": [],
   "source": [
    "import errno\n",
    "import uavcan.file\n",
    "\n",
    "async def file_read_handler(\n",
    "    request: uavcan.file.Read_1_0.Request,\n",
    "    meta: pyuavcan.presentation.ServiceRequestMetadata,\n",
    ") -> uavcan.file.Read_1_0.Response:\n",
    "    print('File read request', request, 'with metadata', meta)\n",
    "    try:\n",
    "        with open(request.path.path.tobytes().decode(), 'r') as f:\n",
    "            f.seek(request.offset)\n",
    "            data = f.read(256)\n",
    "        return uavcan.file.Read_1_0.Response(data=data)\n",
    "    except OSError as ex:\n",
    "        error_value = {\n",
    "            errno.EACCES:   uavcan.file.Error_1_0.ACCESS_DENIED,\n",
    "            errno.E2BIG:    uavcan.file.Error_1_0.FILE_TOO_LARGE,\n",
    "            errno.EINVAL:   uavcan.file.Error_1_0.INVALID_VALUE,\n",
    "            errno.EIO:      uavcan.file.Error_1_0.IO_ERROR,\n",
    "            errno.EISDIR:   uavcan.file.Error_1_0.IS_DIRECTORY,\n",
    "            errno.ENOENT:   uavcan.file.Error_1_0.NOT_FOUND,\n",
    "            errno.ENOTSUP:  uavcan.file.Error_1_0.NOT_SUPPORTED,\n",
    "            errno.ENOSPC:   uavcan.file.Error_1_0.OUT_OF_SPACE,\n",
    "        }.get(ex.errno, uavcan.file.Error_1_0.UNKNOWN_ERROR)\n",
    "        return uavcan.file.Read_1_0.Response(error=error_value)\n",
    "\n",
    "server_file_read = node.get_server(uavcan.file.Read_1_0)\n",
    "server_file_read.serve_in_background(file_read_handler)"
   ]
  },
  {
   "cell_type": "code",
   "execution_count": 4,
   "metadata": {
    "pycharm": {
     "is_executing": false,
     "name": "#%%\n"
    }
   },
   "outputs": [
    {
     "name": "stdout",
     "output_type": "stream",
     "text": [
      "example.MyMessage.0.1(value=123.456)\n",
      "TransferFrom(2021-02-22T13:56:24.646945/1547360.971316, priority=NOMINAL, transfer_id=0, fragmented_payload=[8B], source_node_id=250)\n"
     ]
    }
   ],
   "source": [
    "await pub_a.publish(example.MyMessage_0_1(value=123.456))\n",
    "\n",
    "message, metadata = await sub_a.receive_for(1.0)\n",
    "print(message)\n",
    "print(metadata)"
   ]
  },
  {
   "cell_type": "code",
   "execution_count": 5,
   "metadata": {
    "pycharm": {
     "is_executing": false,
     "name": "#%%\n"
    }
   },
   "outputs": [
    {
     "name": "stdout",
     "output_type": "stream",
     "text": [
      "File read request uavcan.file.Read.Request.1.0(offset=2, path=uavcan.file.Path.1.0(path='README.md')) with metadata ServiceRequestMetadata(2021-02-22T13:56:27.786130/1547364.110501, priority=NOMINAL, transfer_id=0, client_node_id=250)\n",
      "First line of the returned text: 'Jupyter PyUAVCAN demo'\n",
      "Response metadata: TransferFrom(2021-02-22T13:56:27.789650/1547364.114020, priority=NOMINAL, transfer_id=0, fragmented_payload=[260B], source_node_id=250)\n"
     ]
    }
   ],
   "source": [
    "client_file_read = node.make_client(uavcan.file.Read_1_0, server_node_id=250)\n",
    "\n",
    "file_read_request = uavcan.file.Read_1_0.Request(offset=2, path=uavcan.file.Path_1_0('README.md'))\n",
    "response, metadata = await client_file_read.call(file_read_request)\n",
    "\n",
    "assert isinstance(response, uavcan.file.Read_1_0.Response)\n",
    "\n",
    "first_line = response.data.tobytes().decode().split('\\n')[0]\n",
    "print('First line of the returned text:', repr(first_line))\n",
    "print('Response metadata:', metadata)"
   ]
  },
  {
   "cell_type": "code",
   "execution_count": 6,
   "metadata": {
    "pycharm": {
     "is_executing": false,
     "name": "#%%\n"
    }
   },
   "outputs": [
    {
     "name": "stdout",
     "output_type": "stream",
     "text": [
      "Node info as JSON: {\n",
      "    \"protocol_version\": {\n",
      "        \"major\": 1,\n",
      "        \"minor\": 0\n",
      "    },\n",
      "    \"hardware_version\": {\n",
      "        \"major\": 0,\n",
      "        \"minor\": 0\n",
      "    },\n",
      "    \"software_version\": {\n",
      "        \"major\": 0,\n",
      "        \"minor\": 0\n",
      "    },\n",
      "    \"software_vcs_revision_id\": 0,\n",
      "    \"unique_id\": [\n",
      "        77,\n",
      "        128,\n",
      "        170,\n",
      "        31,\n",
      "        11,\n",
      "        78,\n",
      "        243,\n",
      "        204,\n",
      "        70,\n",
      "        113,\n",
      "        96,\n",
      "        35,\n",
      "        231,\n",
      "        233,\n",
      "        242,\n",
      "        46\n",
      "    ],\n",
      "    \"name\": \"anonymous.4d80aa1f0b4ef3cc46716023e7e9f22e\",\n",
      "    \"software_image_crc\": [],\n",
      "    \"certificate_of_authenticity\": \"\"\n",
      "}\n"
     ]
    }
   ],
   "source": [
    "import json\n",
    "\n",
    "info_client = node.make_client(uavcan.node.GetInfo_1_0, server_node_id=250)\n",
    "response, metadata = await info_client.call(uavcan.node.GetInfo_1_0.Request())\n",
    "\n",
    "print('Node info as JSON:', json.dumps(pyuavcan.dsdl.to_builtin(response), indent=4))"
   ]
  },
  {
   "cell_type": "code",
   "execution_count": null,
   "metadata": {},
   "outputs": [],
   "source": []
  }
 ],
 "metadata": {
  "kernelspec": {
   "display_name": "Python 3",
   "language": "python",
   "name": "python3"
  },
  "language_info": {
   "codemirror_mode": {
    "name": "ipython",
    "version": 3
   },
   "file_extension": ".py",
   "mimetype": "text/x-python",
   "name": "python",
   "nbconvert_exporter": "python",
   "pygments_lexer": "ipython3",
   "version": "3.9.1"
  },
  "pycharm": {
   "stem_cell": {
    "cell_type": "raw",
    "metadata": {
     "collapsed": false
    },
    "source": []
   }
  }
 },
 "nbformat": 4,
 "nbformat_minor": 2
}
