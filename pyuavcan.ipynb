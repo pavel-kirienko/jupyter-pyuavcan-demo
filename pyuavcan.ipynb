{
 "cells": [
  {
   "cell_type": "code",
   "execution_count": 2,
   "metadata": {},
   "outputs": [
    {
     "name": "stdout",
     "output_type": "stream",
     "text": [
      "IPython autoawait is `on`, and set to use `asyncio`\n",
      "Using PyUAVCAN version 0.5.0\n"
     ]
    }
   ],
   "source": [
    "%autoawait\n",
    "\n",
    "import sys\n",
    "import pyuavcan  # READ THE LIBRARY DOCS AT http://pyuavcan.readthedocs.io\n",
    "\n",
    "# In this interactive scenario there is no point generating DSDL packages programmatically because\n",
    "# it is easier to invoke the DSDL code generator from the command line instead.\n",
    "# For the purposes of this demo, the following command will do the job:\n",
    "#\n",
    "#    uvc dsdl-gen-pkg dsdl/example https://github.com/UAVCAN/public_regulated_data_types/archive/master.zip\n",
    "#\n",
    "# Make sure that you are invoking the command from the directory where the notebook is located.\n",
    "\n",
    "import uavcan   # Generated package for the DSDL namespace \"uavcan\".\n",
    "import example  # Generated package for the DSDL namespace \"example\".\n",
    "import pyuavcan.application\n",
    "\n",
    "print('Using PyUAVCAN version', pyuavcan.__version__)"
   ]
  },
  {
   "cell_type": "code",
   "execution_count": 3,
   "metadata": {},
   "outputs": [],
   "source": [
    "# Transport configuration. Uncomment the transport you need, remove the rest.\n",
    "\n",
    "import pyuavcan.transport.udp\n",
    "transport = pyuavcan.transport.udp.UDPTransport('127.0.0.42/8')\n",
    "\n",
    "#import pyuavcan.transport.serial\n",
    "#transport = pyuavcan.transport.serial.SerialTransport('/dev/ttyACM0', local_node_id=42)\n",
    "\n",
    "#import pyuavcan.transport.can\n",
    "#import pyuavcan.transport.can.media.socketcan\n",
    "#media = pyuavcan.transport.can.media.socketcan.SocketCANMedia('vcan0', mtu=8)\n",
    "#transport = pyuavcan.transport.can.CANTransport(media, local_node_id=42)"
   ]
  },
  {
   "cell_type": "code",
   "execution_count": 4,
   "metadata": {},
   "outputs": [],
   "source": [
    "# Initialize and start the node.\n",
    "presentation = pyuavcan.presentation.Presentation(transport)\n",
    "\n",
    "node_info = uavcan.node.GetInfo_1_0.Response(\n",
    "    protocol_version=uavcan.node.Version_1_0(*pyuavcan.UAVCAN_SPECIFICATION_VERSION),\n",
    "    software_version=uavcan.node.Version_1_0(major=1, minor=0),\n",
    "    name='org.uavcan.pyuavcan.demo.jupyter',\n",
    ")\n",
    "node = pyuavcan.application.Node(presentation, node_info)\n",
    "node.start()"
   ]
  },
  {
   "cell_type": "code",
   "execution_count": 5,
   "metadata": {},
   "outputs": [
    {
     "data": {
      "text/plain": [
       "{<Task pending coro=<HeartbeatPublisher._task_function() running at /home/pavel/.pyenv/versions/3.7.3/lib/python3.7/site-packages/pyuavcan/application/heartbeat_publisher.py:207> wait_for=<Future pending cb=[<TaskWakeupMethWrapper object at 0x7f8e87b39588>()]>>,\n",
       " <Task pending coro=<Queue.get() running at /home/pavel/.pyenv/versions/3.7.3/lib/python3.7/asyncio/queues.py:159> wait_for=<Future pending cb=[<TaskWakeupMethWrapper object at 0x7f8e88a24f78>()]> cb=[_release_waiter(<Future pendi...eb800a5b8>()]>)() at /home/pavel/.pyenv/versions/3.7.3/lib/python3.7/asyncio/tasks.py:366]>,\n",
       " <Task pending coro=<Queue.get() running at /home/pavel/.pyenv/versions/3.7.3/lib/python3.7/asyncio/queues.py:159> wait_for=<Future pending cb=[<TaskWakeupMethWrapper object at 0x7f8eb800a6d8>()]> cb=[_release_waiter(<Future pendi...e87b39798>()]>)() at /home/pavel/.pyenv/versions/3.7.3/lib/python3.7/asyncio/tasks.py:366]>,\n",
       " <Task pending coro=<Queue.get() running at /home/pavel/.pyenv/versions/3.7.3/lib/python3.7/asyncio/queues.py:159> wait_for=<Future pending cb=[<TaskWakeupMethWrapper object at 0x7f8eb800aa08>()]> cb=[_release_waiter(<Future pendi...eb800a618>()]>)() at /home/pavel/.pyenv/versions/3.7.3/lib/python3.7/asyncio/tasks.py:366]>,\n",
       " <Task pending coro=<Server.serve_in_background.<locals>.task_function() running at /home/pavel/.pyenv/versions/3.7.3/lib/python3.7/site-packages/pyuavcan/presentation/_port/_server.py:127> wait_for=<Future pending cb=[<TaskWakeupMethWrapper object at 0x7f8eb800a618>()]>>,\n",
       " <Task pending coro=<Subscriber.receive_in_background.<locals>.task_function() running at /home/pavel/.pyenv/versions/3.7.3/lib/python3.7/site-packages/pyuavcan/presentation/_port/_subscriber.py:103> wait_for=<Future pending cb=[<TaskWakeupMethWrapper object at 0x7f8eb800a5b8>()]>>,\n",
       " <Task pending coro=<SubscriberImpl._task_function() running at /home/pavel/.pyenv/versions/3.7.3/lib/python3.7/site-packages/pyuavcan/presentation/_port/_subscriber.py:283> wait_for=<Future pending cb=[<TaskWakeupMethWrapper object at 0x7f8e87b39798>()]>>}"
      ]
     },
     "execution_count": 5,
     "metadata": {},
     "output_type": "execute_result"
    }
   ],
   "source": [
    "# As this output demonstrates, the networking stack runs in the background.\n",
    "import asyncio\n",
    "asyncio.Task.all_tasks()"
   ]
  },
  {
   "cell_type": "code",
   "execution_count": null,
   "metadata": {},
   "outputs": [],
   "source": [
    "pub = node.presentation.make_publisher()"
   ]
  }
 ],
 "metadata": {
  "kernelspec": {
   "display_name": "Python 3",
   "language": "python",
   "name": "python3"
  },
  "language_info": {
   "codemirror_mode": {
    "name": "ipython",
    "version": 3
   },
   "file_extension": ".py",
   "mimetype": "text/x-python",
   "name": "python",
   "nbconvert_exporter": "python",
   "pygments_lexer": "ipython3",
   "version": "3.7.3"
  }
 },
 "nbformat": 4,
 "nbformat_minor": 2
}
